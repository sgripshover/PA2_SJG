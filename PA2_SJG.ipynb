{
 "cells": [
  {
   "cell_type": "markdown",
   "id": "478b1efb-9280-4fc5-8d11-ff4f7645bcbc",
   "metadata": {},
   "source": [
    "# Programming Assignment 2\n",
    "---\n",
    "**Author:** Savannah Gripshover\n",
    "**Version:** 1.0  \n",
    "**Semester:** Spring 2024 \n",
    "\n",
    "This *notebook* contains my solution(s) to **Programming Assignment 2**"
   ]
  },
  {
   "cell_type": "markdown",
   "id": "f0d5c152-1565-4bca-af1c-cfe66891c7b5",
   "metadata": {
    "tags": []
   },
   "source": [
    "### Problem 1 - Printing Numbers"
   ]
  },
  {
   "cell_type": "code",
   "execution_count": 26,
   "id": "3595ba25-89c9-4466-b3a3-ca79c4e28a97",
   "metadata": {},
   "outputs": [
    {
     "name": "stdout",
     "output_type": "stream",
     "text": [
      "0  \n",
      "1  \n",
      "2  \n",
      "3  \n",
      "4  \n",
      "5  \n",
      "6 *\n",
      "7  \n",
      "8  \n",
      "9 *\n",
      "10  \n",
      "11  \n",
      "12 *\n",
      "13  \n",
      "14  \n",
      "15 *\n",
      "16  \n",
      "17  \n",
      "18 *\n",
      "19  \n",
      "20  \n",
      "21 *\n",
      "22  \n",
      "23  \n",
      "24 *\n",
      "25  \n",
      "26  \n",
      "27 *\n",
      "28  \n",
      "29  \n",
      "30 *\n",
      "31  \n",
      "32  \n",
      "33 *\n",
      "34  \n",
      "35  \n",
      "36 *\n",
      "37  \n",
      "38  \n",
      "39 *\n",
      "40  \n",
      "41  \n",
      "42 *\n",
      "43  \n",
      "44  \n",
      "45 *\n",
      "46  \n",
      "47  \n",
      "48 *\n",
      "49  \n",
      "50  \n",
      "51 *\n",
      "52  \n",
      "53  \n",
      "54 *\n",
      "55  \n",
      "56  \n",
      "57 *\n",
      "58  \n",
      "59  \n",
      "60 *\n",
      "61  \n",
      "62  \n",
      "63 *\n",
      "64  \n",
      "65  \n",
      "66 *\n",
      "67  \n",
      "68  \n",
      "69 *\n",
      "70  \n",
      "71  \n",
      "72 *\n",
      "73  \n",
      "74  \n",
      "75 *\n",
      "76  \n",
      "77  \n",
      "78 *\n",
      "79  \n",
      "80  \n",
      "81 *\n",
      "82  \n",
      "83  \n",
      "84 *\n",
      "85  \n",
      "86  \n",
      "87 *\n",
      "88  \n",
      "89  \n",
      "90 *\n",
      "91  \n",
      "92  \n",
      "93 *\n",
      "94  \n",
      "95  \n",
      "96 *\n",
      "97  \n",
      "98  \n",
      "99 *\n"
     ]
    }
   ],
   "source": [
    "for n in range(0, 100, 1):\n",
    "    print (n, end=\" \")\n",
    "    if n%3==0:\n",
    "        if n!=0 and n!=3:\n",
    "            print(\"*\")\n",
    "        else:\n",
    "            print(\" \")\n",
    "    else:\n",
    "        print(\" \")"
   ]
  },
  {
   "cell_type": "markdown",
   "id": "143cc602-fb0b-4f54-86f2-2ca221dc1e4f",
   "metadata": {},
   "source": [
    "### Problem 2 - Age Status"
   ]
  },
  {
   "cell_type": "code",
   "execution_count": 44,
   "id": "619ffb2e-e0c3-4d7b-92c5-bc0178aa346c",
   "metadata": {
    "tags": []
   },
   "outputs": [
    {
     "name": "stdin",
     "output_type": "stream",
     "text": [
      "What is your age?:  0\n"
     ]
    }
   ],
   "source": [
    "age = input(\"What is your age?: \")\n",
    "while int(age)!=0:\n",
    "    if int(age) <18:\n",
    "        print(\"Minor\")\n",
    "    elif int(age) >=18 and int(age) <=65:\n",
    "        print(\"Adult\")\n",
    "    elif int(age) >=65:\n",
    "        print(\"Senior Citizen\")\n",
    "    age = input(\"What is your age?\")"
   ]
  },
  {
   "cell_type": "markdown",
   "id": "9569af0c-f206-4c8d-afa3-e4b8629c6215",
   "metadata": {},
   "source": [
    "### Problem 3 - Age Status v2"
   ]
  },
  {
   "cell_type": "code",
   "execution_count": 45,
   "id": "e9a1e088-df77-4163-a5e9-97366ab0bbc3",
   "metadata": {
    "tags": []
   },
   "outputs": [],
   "source": [
    "ages = [65,78,34,56,12,9,43,67]"
   ]
  },
  {
   "cell_type": "code",
   "execution_count": 49,
   "id": "340fbe52-4426-4ae0-b210-1f7397d308b3",
   "metadata": {
    "tags": []
   },
   "outputs": [
    {
     "name": "stdout",
     "output_type": "stream",
     "text": [
      "65 Adult\n",
      "78 Senior Citizen\n",
      "34 Adult\n",
      "56 Adult\n",
      "12 Minor\n",
      "9 Minor\n",
      "43 Adult\n",
      "67 Senior Citizen\n"
     ]
    }
   ],
   "source": [
    "for a in ages:\n",
    "    if a <18:\n",
    "        print(f'{a} Minor')\n",
    "    elif a >=18 and a <=65:\n",
    "        print(f'{a} Adult')\n",
    "    elif a >=65:\n",
    "        print(f'{a} Senior Citizen')"
   ]
  },
  {
   "cell_type": "markdown",
   "id": "fd9fbba5-7083-4286-aa55-5f4b40bde349",
   "metadata": {},
   "source": [
    "### Problem 4 - Calculating Pi"
   ]
  },
  {
   "cell_type": "code",
   "execution_count": 57,
   "id": "5ae64ffb-3140-4f21-96e5-8d5511d454d9",
   "metadata": {
    "tags": []
   },
   "outputs": [
    {
     "name": "stdout",
     "output_type": "stream",
     "text": [
      "-7.826130279157341\n",
      "0.2628580686279481\n",
      "5.826580712636265\n",
      "-3.08123283671786\n",
      "-2.421051359168343\n"
     ]
    }
   ],
   "source": [
    "terms = [100,1000,10000,100000,1000000]\n",
    "for t in terms:\n",
    "    n = 0\n",
    "    p = 0\n",
    "    while p <t:\n",
    "        n = (-1**n)/(2*n+1)\n",
    "        p += 1\n",
    "        \n",
    "    print(4*n)"
   ]
  },
  {
   "cell_type": "code",
   "execution_count": null,
   "id": "aface384-c239-4d4f-bb31-ce6e4f9554c9",
   "metadata": {},
   "outputs": [],
   "source": []
  }
 ],
 "metadata": {
  "kernelspec": {
   "display_name": "Python 3 (ipykernel)",
   "language": "python",
   "name": "python3"
  },
  "language_info": {
   "codemirror_mode": {
    "name": "ipython",
    "version": 3
   },
   "file_extension": ".py",
   "mimetype": "text/x-python",
   "name": "python",
   "nbconvert_exporter": "python",
   "pygments_lexer": "ipython3",
   "version": "3.11.5"
  }
 },
 "nbformat": 4,
 "nbformat_minor": 5
}
